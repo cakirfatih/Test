{
  "nbformat": 4,
  "nbformat_minor": 0,
  "metadata": {
    "colab": {
      "name": "1D_Conv_Mel_fc.ipynb",
      "provenance": [],
      "collapsed_sections": [],
      "authorship_tag": "ABX9TyPBs81QPsmEXUOzeVurRFEN",
      "include_colab_link": true
    },
    "kernelspec": {
      "name": "python3",
      "display_name": "Python 3"
    },
    "accelerator": "GPU"
  },
  "cells": [
    {
      "cell_type": "markdown",
      "metadata": {
        "id": "view-in-github",
        "colab_type": "text"
      },
      "source": [
        "<a href=\"https://colab.research.google.com/github/cakirfatih/Test/blob/master/1D_Conv_Mel_fc.ipynb\" target=\"_parent\"><img src=\"https://colab.research.google.com/assets/colab-badge.svg\" alt=\"Open In Colab\"/></a>"
      ]
    },
    {
      "cell_type": "code",
      "metadata": {
        "id": "6404PwvHdjh_",
        "colab_type": "code",
        "colab": {
          "base_uri": "https://localhost:8080/",
          "height": 51
        },
        "outputId": "0c6cabb3-ae18-4c56-842b-197725f35429"
      },
      "source": [
        "# -*- coding: utf-8 -*-\n",
        "\"\"\"\n",
        "Created on Fri May  1 23:05:50 2020\n",
        "\n",
        "@author: kosed\n",
        "\"\"\"\n",
        "import os\n",
        "import librosa\n",
        "import librosa.display\n",
        "import pandas as pd\n",
        "import matplotlib.pyplot as plt\n",
        "import pathlib\n",
        "import numpy as np\n",
        "from os.path import dirname, join as pjoin\n",
        "import warnings\n",
        "import torch\n",
        "import PIL\n",
        "from PIL import Image\n",
        "import torch.nn as nn\n",
        "import torch.nn.functional as F\n",
        "import torch.optim as optim\n",
        "import seaborn as sn\n",
        "from sklearn.metrics import multilabel_confusion_matrix\n",
        "from torch.autograd import Variable\n",
        "warnings.filterwarnings('ignore')\n",
        "import cv2"
      ],
      "execution_count": 1,
      "outputs": [
        {
          "output_type": "stream",
          "text": [
            "/usr/local/lib/python3.6/dist-packages/statsmodels/tools/_testing.py:19: FutureWarning: pandas.util.testing is deprecated. Use the functions in the public API at pandas.testing instead.\n",
            "  import pandas.util.testing as tm\n"
          ],
          "name": "stderr"
        }
      ]
    },
    {
      "cell_type": "code",
      "metadata": {
        "id": "1PtpS6VXdvSp",
        "colab_type": "code",
        "colab": {
          "base_uri": "https://localhost:8080/",
          "height": 122
        },
        "outputId": "08141a09-e3f2-4502-e8fe-bb41a9c3b12b"
      },
      "source": [
        "from google.colab import drive\n",
        "\n",
        "drive.mount('/content/drive')\n"
      ],
      "execution_count": 2,
      "outputs": [
        {
          "output_type": "stream",
          "text": [
            "Go to this URL in a browser: https://accounts.google.com/o/oauth2/auth?client_id=947318989803-6bn6qk8qdgf4n4g3pfee6491hc0brc4i.apps.googleusercontent.com&redirect_uri=urn%3aietf%3awg%3aoauth%3a2.0%3aoob&response_type=code&scope=email%20https%3a%2f%2fwww.googleapis.com%2fauth%2fdocs.test%20https%3a%2f%2fwww.googleapis.com%2fauth%2fdrive%20https%3a%2f%2fwww.googleapis.com%2fauth%2fdrive.photos.readonly%20https%3a%2f%2fwww.googleapis.com%2fauth%2fpeopleapi.readonly\n",
            "\n",
            "Enter your authorization code:\n",
            "··········\n",
            "Mounted at /content/drive\n"
          ],
          "name": "stdout"
        }
      ]
    },
    {
      "cell_type": "code",
      "metadata": {
        "id": "2hawkryBdwRf",
        "colab_type": "code",
        "colab": {}
      },
      "source": [
        "    def report_performance(predictions, labels):        \n",
        "        genres = 'blues classical country disco hiphop jazz metal pop reggae rock'.split()\n",
        "        print(\"hello\")\n",
        "            \n",
        "        if type(predictions).__module__ == torch.__name__ :\n",
        "            predictions = predictions.tolist()\n",
        "        if type(labels).__module__ == torch.__name__ :\n",
        "            labels = labels.tolist()\n",
        "        \n",
        "        if type(predictions).__module__ == np.__name__ :\n",
        "            predictions = list(predictions)\n",
        "        if type(labels).__module__ == np.__name__ :\n",
        "            labels = list(labels)\n",
        "        \n",
        "        size = len(genres);\n",
        "        i = 0;\n",
        "        \n",
        "        while i < 10:\n",
        "            if i in labels:\n",
        "                for j, x in enumerate(labels):\n",
        "                    if x == i: \n",
        "                        labels[j] = genres[i + size - 10]\n",
        "            else: \n",
        "                del genres[i]\n",
        "                size -= 1\n",
        "            if i in predictions:        \n",
        "                for j, x in enumerate(predictions):\n",
        "                    if x == i:\n",
        "                       predictions[j] = genres[i + size - 10]\n",
        "            i+=1; \n",
        "              \n",
        "        \n",
        "        data = {'y_Actual':    labels,\n",
        "                'y_Predicted': predictions\n",
        "                }\n",
        "    \n",
        "        df = pd.DataFrame(data, columns=['y_Actual','y_Predicted'])\n",
        "        confusion_matrix = pd.crosstab(df['y_Actual'], df['y_Predicted'], rownames=['Actual'], colnames=['Predicted'])\n",
        "        \n",
        "        sn.heatmap(confusion_matrix, annot=True)\n",
        "        plt.show()\n",
        "        \n",
        "        cnf = multilabel_confusion_matrix(labels, predictions)\n",
        "    \n",
        "        for i in range(0, len(genres)):\n",
        "            if (cnf[i][0][1]+cnf[i][1][1]) != 0:\n",
        "                print(\"Accuracy for\", genres[i], \"is:\", cnf[i][1][1]/(cnf[i][0][1]+cnf[i][1][1]), \"\\n\")"
      ],
      "execution_count": 0,
      "outputs": []
    },
    {
      "cell_type": "code",
      "metadata": {
        "id": "5hmftLPFdwVV",
        "colab_type": "code",
        "colab": {}
      },
      "source": [
        "# %%  EXTRACT SOUND WAVES FROM SONGS\n",
        "\n",
        "def extract_data():\n",
        "    genres = 'blues classical country disco hiphop jazz metal pop reggae rock'.split()\n",
        "    data = []\n",
        "    for g in genres:\n",
        "        for filename in os.listdir(f'drive/My Drive/machine learning/rescaled400_daha_net/{g}'):\n",
        "            songname = f'drive/My Drive/machine learning/rescaled400_daha_net/{g}/{filename}'\n",
        "            temp = plt.imread(songname)[:,:,:3]\n",
        "            data.append(temp)\n",
        "    return data\n",
        "\n",
        "def shuffle(data, classes):\n",
        "    dataset = np.r_['1', data, classes]\n",
        "    np.random.shuffle(dataset)\n",
        "    n, m = np.shape(dataset)\n",
        "    train_size = 700\n",
        "    validation_size = 100\n",
        "    test_size = 200\n",
        "    train_data = dataset[:train_size].astype(dtype='float32')\n",
        "    x_train_data = train_data[:,0:m-1]\n",
        "    y_train_data = train_data[:,m-1]\n",
        "    x_train_data = np.reshape(x_train_data, (train_size,-1,3))\n",
        "    y_train_data = np.reshape(y_train_data, (train_size))\n",
        "    train_data = []\n",
        "    for i in range(train_size):\n",
        "        train_data.append([x_train_data[i], y_train_data[i]])\n",
        "\n",
        "    validation_data = dataset[train_size:train_size+validation_size].astype(dtype='float32')\n",
        "    x_validation_data = validation_data[:,0:m-1]\n",
        "    y_validation_data = validation_data[:,m-1]\n",
        "\n",
        "    x_validation_data = np.reshape(x_validation_data, (validation_size,-1,3))\n",
        "    y_validation_data = np.reshape(y_validation_data, (validation_size))\n",
        "    \n",
        "    validation_data = []\n",
        "    for i in range(validation_size):\n",
        "        validation_data.append([x_validation_data[i], y_validation_data[i]])\n",
        "    \n",
        "    \n",
        "    test_data = dataset[800:].astype(dtype='float32')\n",
        "    x_test_data = test_data[:,0:m-1]\n",
        "    y_test_data = test_data[:,m-1]\n",
        "    x_test_data = np.reshape(x_test_data, (test_size,-1,3))\n",
        "    y_test_data = np.reshape(y_test_data, (test_size))\n",
        "    test_data = []\n",
        "    for i in range(test_size):\n",
        "        test_data.append([x_test_data[i], y_test_data[i]])\n",
        "    \n",
        "    return train_data, validation_data, test_data\n",
        "\n",
        "def construct_labels():\n",
        "    labels = []\n",
        "    genres = 'blues classical country disco hiphop jazz metal pop reggae rock'.split()\n",
        "    numeration = [0,1,2,3,4,5,6,7,8,9]\n",
        "    for g in numeration:\n",
        "        for i in range(100):\n",
        "            labels.append(g)\n",
        "    return np.reshape(labels,(1000,1))\n",
        "\n",
        "\n",
        "\n"
      ],
      "execution_count": 0,
      "outputs": []
    },
    {
      "cell_type": "code",
      "metadata": {
        "id": "H0ikHFKMdwXu",
        "colab_type": "code",
        "colab": {}
      },
      "source": [
        "# %% Main\n",
        "data = extract_data()\n",
        "data = np.reshape(data, (np.shape(data)[0],-1,3))\n",
        "data = np.reshape(data, (np.shape(data)[0],-1))\n",
        "label = construct_labels()\n",
        "train_data, validation_data, test_data = shuffle(data, label)"
      ],
      "execution_count": 0,
      "outputs": []
    },
    {
      "cell_type": "code",
      "metadata": {
        "id": "fEJ9lWFPdwcE",
        "colab_type": "code",
        "colab": {}
      },
      "source": [
        "def get_accuracy(logit, target, batch_size):\n",
        "    ''' Obtain accuracy for training round '''\n",
        "    corrects = (torch.max(logit, 1)[1].view(target.size()).data == target.data).sum()\n",
        "    accuracy = 100.0 * corrects/batch_size\n",
        "    return accuracy.item()"
      ],
      "execution_count": 0,
      "outputs": []
    },
    {
      "cell_type": "code",
      "metadata": {
        "id": "LpMuqR5KdwgW",
        "colab_type": "code",
        "colab": {}
      },
      "source": [
        "# %% model\n",
        "device = torch.device('cuda:0' if torch.cuda.is_available() else 'cpu')\n",
        "\n",
        "class Net(nn.Module):\n",
        "\n",
        "    \n",
        "    def __init__(self):\n",
        "        super(Net, self).__init__()\n",
        "        self.conv1 = nn.Conv1d(3, 8, 4)\n",
        "        torch.nn.init.xavier_normal(self.conv1.weight)\n",
        "        self.conv2 = nn.Conv1d(8, 16, 32)\n",
        "        torch.nn.init.xavier_uniform(self.conv2.weight)\n",
        "        self.conv3 = nn.Conv1d(16, 64, 16)\n",
        "        torch.nn.init.xavier_normal(self.conv3.weight)\n",
        "        self.ap = nn.AvgPool1d(4)\n",
        "        self.mp = nn.MaxPool1d(4)\n",
        "        self.fc = nn.Linear(249300, 100)\n",
        "        self.fc4 = nn.Linear(159232,100)\n",
        "        self.fc3 = nn.Linear(159616,100)\n",
        "        self.fc2 = nn.Linear(100, 10)\n",
        "    def forward(self, x):\n",
        "        in_size = x.size(0)\n",
        "        x = F.relu(self.ap(self.conv1(x)))\n",
        "        x = F.relu(self.ap(self.conv2(x)))\n",
        "        x = F.relu(self.ap(self.conv3(x)))\n",
        "        x = x.view(in_size, -1)\n",
        "        if (len(x[1]) == 249300):\n",
        "          x = F.relu(self.fc(x))\n",
        "        elif (len(x[1]) == 159232):\n",
        "          x = F.relu(self.fc4(x))\n",
        "        else:\n",
        "          x = F.relu(self.fc3(x))\n",
        "        x = self.fc2(x)\n",
        "        \n",
        "        return F.log_softmax(x)\n",
        "\n",
        "\n",
        "def train(epoch, batchsize):\n",
        "    \n",
        "    model.train()\n",
        "    total_loss = 0\n",
        "    train_acc = 0\n",
        "    c = 0;\n",
        "    for batch_idx, data in enumerate(train_loader):\n",
        "        c += 1\n",
        "        label = data[1]\n",
        "        label = label.to(dtype=torch.int64)\n",
        "        data = data[0]\n",
        "        data = np.reshape(data,(batch_size, 3, -1))\n",
        "        data, target = Variable(data), Variable(label)\n",
        "        optimizer.zero_grad()\n",
        "        \n",
        "        output = model(data.to(device))\n",
        "        \n",
        "        loss = F.nll_loss(output.to(device), target.to(device))\n",
        "        total_loss += loss.detach().item()\n",
        "        loss.backward()\n",
        "        optimizer.step()\n",
        "\n",
        "        train_acc += get_accuracy(output.to('cpu'), target, batch_size)\n",
        "\n",
        "        if (batch_idx % 10 == 0):\n",
        "            print('Train Epoch: {} [{}/{} ({:.0f}%)]\\tLoss: {:.6f}\\tTrain Accuracy: {:.6f}'.format(\n",
        "              epoch, batch_idx * len(data), len(train_loader.dataset), 100. * batch_idx / len(train_loader), loss.item(), (train_acc/c)))\n",
        "    return total_loss / batch_idx, train_acc/c\n",
        "\n",
        "def validate():\n",
        "    correct = 0\n",
        "    total = 0\n",
        "    \n",
        "\n",
        "    for data in (validation_loader):\n",
        "      \n",
        "        label = data[1]\n",
        "        label = label.to(dtype=torch.int64)\n",
        "\n",
        "        data = data[0]\n",
        "        data = np.reshape(data, (100, 3, -1))\n",
        "        data, target = Variable(data), Variable(label)\n",
        "\n",
        "        output = model(data.to(device))\n",
        "\n",
        "        _, predicted = torch.max(output.data, 1)\n",
        "\n",
        "        total += target.size(0)\n",
        "\n",
        "        correct += (predicted.to('cpu') == target).sum()\n",
        "\n",
        "    accuracy = 100 * correct / total\n",
        "    print('Validation Accuracy: %.2f \\n' \n",
        "            %(accuracy))\n",
        "    return accuracy\n",
        "\n",
        "def test(batchsize):\n",
        "    model.eval()\n",
        "    total = 0\n",
        "    test_loss = 0\n",
        "    correct = 0\n",
        "    correct_2 = 0\n",
        "    correct_3 = 0\n",
        "    total_pred = []\n",
        "    total_target = []\n",
        "    total_loss = 0\n",
        "    for data in test_loader:\n",
        "        \n",
        "        label = data[1]\n",
        "        label = label.to(dtype=torch.int64)\n",
        "        data = data[0]\n",
        "        data = np.reshape(data,(batchsize, 3, -1))\n",
        "        data, target = Variable(data), Variable(label)\n",
        "        \n",
        "        output = model(data.to(device))\n",
        "        \n",
        "        test_loss = F.nll_loss(output.to('cpu'), target.to('cpu'))\n",
        "        total_loss += test_loss\n",
        "\n",
        "        _, predicted = torch.topk(output.data, 3)\n",
        "        pred = output.data.max(1, keepdim=True)[1]\n",
        "        target = target.to(device)\n",
        "        correct += pred.eq(target.data.view_as(pred)).cpu().sum()\n",
        "\n",
        "        correct_2 += (predicted[:,0] == target).sum() + (predicted[:,1] == target).sum()  \n",
        "        correct_3 += (predicted[:,0] == target).sum() + (predicted[:,1] == target).sum()  + (predicted[:,2] == target).sum() \n",
        "        total += target.size(0)\n",
        "\n",
        "        ###########################################################\n",
        "        temp = pred.data.cpu().numpy()\n",
        "        temp2 = target.data.cpu().numpy()\n",
        "        temp = np.reshape(temp, (-1))\n",
        "        temp2 = np.reshape(temp2, (-1))\n",
        "        total_pred = np.concatenate((total_pred, temp), axis=0)\n",
        "        total_target= np.concatenate((total_target, temp2), axis=0)\n",
        "        #############################################################\n",
        "    \n",
        "\n",
        "    accuracy_top_2 = 100 * correct_2 / total\n",
        "    accuracy_top_3 = 100 * correct_3 / total\n",
        "\n",
        "\n",
        "    print(\"Top 2 prediction accuracy: %.1f%%\" %(accuracy_top_2.item()))\n",
        "    print(\"Top 3 prediction accuracy: %.1f%%\" %(accuracy_top_3.item()))\n",
        "    \n",
        "    test_loss /=  len(test_loader.dataset)\n",
        "    total_loss /= len(test_loader.dataset)\n",
        "    print('\\nTest set: Average loss: {:.4f}, Accuracy: {}/{} ({:.0f}%)\\n'.format(test_loss, correct, len(test_loader.dataset), \n",
        "                                                                                     100. * correct / len(test_loader.dataset)))\n",
        "    return total_pred, total_target, test_loss, ( 100.00 * correct / len(test_loader.dataset))\n",
        "\n",
        "#"
      ],
      "execution_count": 0,
      "outputs": []
    },
    {
      "cell_type": "code",
      "metadata": {
        "id": "_KxVVflsdwkU",
        "colab_type": "code",
        "colab": {}
      },
      "source": [
        "# %% \n",
        "# Training settings\n",
        "batch_size = 50\n",
        "validation_batch_size = 100\n",
        "test_batch_size = 5\n",
        "train_loader = torch.utils.data.DataLoader(dataset=train_data,\n",
        "                                           batch_size = batch_size,\n",
        "                                           shuffle=False)\n",
        "validation_loader = torch.utils.data.DataLoader(dataset=validation_data, batch_size = validation_batch_size,shuffle=False)\n",
        "\n",
        "test_loader = torch.utils.data.DataLoader(dataset=test_data,\n",
        "                                          batch_size = test_batch_size,\n",
        "                                          shuffle=False)\n",
        "\n"
      ],
      "execution_count": 0,
      "outputs": []
    },
    {
      "cell_type": "code",
      "metadata": {
        "id": "Y4UCZQXidwoy",
        "colab_type": "code",
        "colab": {}
      },
      "source": [
        "# %% Model \n",
        "model = Net()\n",
        "model = model.to(device)"
      ],
      "execution_count": 0,
      "outputs": []
    },
    {
      "cell_type": "code",
      "metadata": {
        "id": "QmF8Pa9MdwtH",
        "colab_type": "code",
        "colab": {
          "base_uri": "https://localhost:8080/",
          "height": 1853
        },
        "outputId": "71b7b110-13a2-4522-9f7f-3ad7474d8ffe"
      },
      "source": [
        "# %%\n",
        "#criterion = nn.CrossEntropyLoss()\n",
        "\n",
        "optimizer = optim.Adam(model.parameters(), lr=0.001)\n",
        "\n",
        "epoch=100\n",
        "test_loss_hist = np.arange(epoch).astype(dtype='float')\n",
        "train_loss_hist = np.arange(epoch).astype(dtype='float')\n",
        "validation_accuracy_hist = np.arange(epoch).astype(dtype='float')\n",
        "train_accuracy_hist = np.arange(epoch).astype(dtype='float')\n",
        "count = 0;\n",
        "for i in range(epoch):\n",
        "    train_loss_hist[i], train_accuracy_hist[i] = train(i, batch_size)\n",
        "    validation_accuracy_hist[i] = validate()\n",
        "    if (train_accuracy_hist[i] > 90):\n",
        "      break\n",
        "    count += 1\n",
        "   \n",
        "  "
      ],
      "execution_count": 32,
      "outputs": [
        {
          "output_type": "stream",
          "text": [
            "Train Epoch: 0 [0/700 (0%)]\tLoss: 2.311964\tTrain Accuracy: 12.000000\n",
            "Train Epoch: 0 [500/700 (71%)]\tLoss: 2.291541\tTrain Accuracy: 12.363636\n",
            "Validation Accuracy: 7.00 \n",
            "\n",
            "Train Epoch: 1 [0/700 (0%)]\tLoss: 2.280839\tTrain Accuracy: 10.000000\n",
            "Train Epoch: 1 [500/700 (71%)]\tLoss: 2.166448\tTrain Accuracy: 20.909091\n",
            "Validation Accuracy: 25.00 \n",
            "\n",
            "Train Epoch: 2 [0/700 (0%)]\tLoss: 2.089742\tTrain Accuracy: 24.000000\n",
            "Train Epoch: 2 [500/700 (71%)]\tLoss: 1.919998\tTrain Accuracy: 28.727273\n",
            "Validation Accuracy: 39.00 \n",
            "\n",
            "Train Epoch: 3 [0/700 (0%)]\tLoss: 1.856073\tTrain Accuracy: 24.000000\n",
            "Train Epoch: 3 [500/700 (71%)]\tLoss: 1.838163\tTrain Accuracy: 32.909091\n",
            "Validation Accuracy: 36.00 \n",
            "\n",
            "Train Epoch: 4 [0/700 (0%)]\tLoss: 1.768829\tTrain Accuracy: 26.000000\n",
            "Train Epoch: 4 [500/700 (71%)]\tLoss: 1.724710\tTrain Accuracy: 34.545455\n",
            "Validation Accuracy: 33.00 \n",
            "\n",
            "Train Epoch: 5 [0/700 (0%)]\tLoss: 1.629530\tTrain Accuracy: 38.000000\n",
            "Train Epoch: 5 [500/700 (71%)]\tLoss: 1.711374\tTrain Accuracy: 38.545455\n",
            "Validation Accuracy: 31.00 \n",
            "\n",
            "Train Epoch: 6 [0/700 (0%)]\tLoss: 1.754817\tTrain Accuracy: 34.000000\n",
            "Train Epoch: 6 [500/700 (71%)]\tLoss: 1.617679\tTrain Accuracy: 38.727273\n",
            "Validation Accuracy: 35.00 \n",
            "\n",
            "Train Epoch: 7 [0/700 (0%)]\tLoss: 1.507180\tTrain Accuracy: 42.000000\n",
            "Train Epoch: 7 [500/700 (71%)]\tLoss: 1.532543\tTrain Accuracy: 40.181818\n",
            "Validation Accuracy: 34.00 \n",
            "\n",
            "Train Epoch: 8 [0/700 (0%)]\tLoss: 1.511891\tTrain Accuracy: 46.000000\n",
            "Train Epoch: 8 [500/700 (71%)]\tLoss: 1.601026\tTrain Accuracy: 43.090909\n",
            "Validation Accuracy: 36.00 \n",
            "\n",
            "Train Epoch: 9 [0/700 (0%)]\tLoss: 1.529804\tTrain Accuracy: 42.000000\n",
            "Train Epoch: 9 [500/700 (71%)]\tLoss: 1.468016\tTrain Accuracy: 44.363636\n",
            "Validation Accuracy: 42.00 \n",
            "\n",
            "Train Epoch: 10 [0/700 (0%)]\tLoss: 1.384496\tTrain Accuracy: 58.000000\n",
            "Train Epoch: 10 [500/700 (71%)]\tLoss: 1.380306\tTrain Accuracy: 48.909091\n",
            "Validation Accuracy: 42.00 \n",
            "\n",
            "Train Epoch: 11 [0/700 (0%)]\tLoss: 1.342950\tTrain Accuracy: 52.000000\n",
            "Train Epoch: 11 [500/700 (71%)]\tLoss: 1.298552\tTrain Accuracy: 52.545455\n",
            "Validation Accuracy: 39.00 \n",
            "\n",
            "Train Epoch: 12 [0/700 (0%)]\tLoss: 1.230440\tTrain Accuracy: 64.000000\n",
            "Train Epoch: 12 [500/700 (71%)]\tLoss: 1.246768\tTrain Accuracy: 56.909091\n",
            "Validation Accuracy: 44.00 \n",
            "\n",
            "Train Epoch: 13 [0/700 (0%)]\tLoss: 1.140011\tTrain Accuracy: 62.000000\n",
            "Train Epoch: 13 [500/700 (71%)]\tLoss: 1.137014\tTrain Accuracy: 62.181818\n",
            "Validation Accuracy: 48.00 \n",
            "\n",
            "Train Epoch: 14 [0/700 (0%)]\tLoss: 1.044383\tTrain Accuracy: 66.000000\n",
            "Train Epoch: 14 [500/700 (71%)]\tLoss: 1.006941\tTrain Accuracy: 65.636364\n",
            "Validation Accuracy: 49.00 \n",
            "\n",
            "Train Epoch: 15 [0/700 (0%)]\tLoss: 0.969534\tTrain Accuracy: 70.000000\n",
            "Train Epoch: 15 [500/700 (71%)]\tLoss: 0.906862\tTrain Accuracy: 68.909091\n",
            "Validation Accuracy: 48.00 \n",
            "\n",
            "Train Epoch: 16 [0/700 (0%)]\tLoss: 0.857442\tTrain Accuracy: 78.000000\n",
            "Train Epoch: 16 [500/700 (71%)]\tLoss: 0.845791\tTrain Accuracy: 73.818182\n",
            "Validation Accuracy: 54.00 \n",
            "\n",
            "Train Epoch: 17 [0/700 (0%)]\tLoss: 0.807725\tTrain Accuracy: 76.000000\n",
            "Train Epoch: 17 [500/700 (71%)]\tLoss: 0.762551\tTrain Accuracy: 74.363636\n",
            "Validation Accuracy: 52.00 \n",
            "\n",
            "Train Epoch: 18 [0/700 (0%)]\tLoss: 0.741187\tTrain Accuracy: 76.000000\n",
            "Train Epoch: 18 [500/700 (71%)]\tLoss: 0.800074\tTrain Accuracy: 74.363636\n",
            "Validation Accuracy: 59.00 \n",
            "\n",
            "Train Epoch: 19 [0/700 (0%)]\tLoss: 0.705580\tTrain Accuracy: 80.000000\n",
            "Train Epoch: 19 [500/700 (71%)]\tLoss: 0.969204\tTrain Accuracy: 75.272727\n",
            "Validation Accuracy: 54.00 \n",
            "\n",
            "Train Epoch: 20 [0/700 (0%)]\tLoss: 0.646840\tTrain Accuracy: 78.000000\n",
            "Train Epoch: 20 [500/700 (71%)]\tLoss: 0.908144\tTrain Accuracy: 78.909091\n",
            "Validation Accuracy: 46.00 \n",
            "\n",
            "Train Epoch: 21 [0/700 (0%)]\tLoss: 0.777505\tTrain Accuracy: 76.000000\n",
            "Train Epoch: 21 [500/700 (71%)]\tLoss: 0.803085\tTrain Accuracy: 72.545455\n",
            "Validation Accuracy: 50.00 \n",
            "\n",
            "Train Epoch: 22 [0/700 (0%)]\tLoss: 0.590871\tTrain Accuracy: 80.000000\n",
            "Train Epoch: 22 [500/700 (71%)]\tLoss: 0.770485\tTrain Accuracy: 76.000000\n",
            "Validation Accuracy: 50.00 \n",
            "\n",
            "Train Epoch: 23 [0/700 (0%)]\tLoss: 0.692719\tTrain Accuracy: 82.000000\n",
            "Train Epoch: 23 [500/700 (71%)]\tLoss: 0.585905\tTrain Accuracy: 83.090909\n",
            "Validation Accuracy: 58.00 \n",
            "\n",
            "Train Epoch: 24 [0/700 (0%)]\tLoss: 0.577469\tTrain Accuracy: 82.000000\n",
            "Train Epoch: 24 [500/700 (71%)]\tLoss: 0.531983\tTrain Accuracy: 85.090909\n",
            "Validation Accuracy: 54.00 \n",
            "\n",
            "Train Epoch: 25 [0/700 (0%)]\tLoss: 0.469862\tTrain Accuracy: 88.000000\n",
            "Train Epoch: 25 [500/700 (71%)]\tLoss: 0.495485\tTrain Accuracy: 87.818182\n",
            "Validation Accuracy: 54.00 \n",
            "\n",
            "Train Epoch: 26 [0/700 (0%)]\tLoss: 0.328543\tTrain Accuracy: 92.000000\n",
            "Train Epoch: 26 [500/700 (71%)]\tLoss: 0.447467\tTrain Accuracy: 90.363636\n",
            "Validation Accuracy: 56.00 \n",
            "\n"
          ],
          "name": "stdout"
        }
      ]
    },
    {
      "cell_type": "code",
      "metadata": {
        "id": "rIILZpD8dwvh",
        "colab_type": "code",
        "colab": {
          "base_uri": "https://localhost:8080/",
          "height": 758
        },
        "outputId": "161c4aeb-249b-460a-829e-7981f35e9766"
      },
      "source": [
        "test_accuracy_hist = np.arange(epoch).astype(dtype='float')\n",
        "pred, target, test_loss_hist, test_accuracy_hist = test(test_batch_size)\n",
        "report_performance(pred, target)"
      ],
      "execution_count": 40,
      "outputs": [
        {
          "output_type": "stream",
          "text": [
            "Top 2 prediction accuracy: 75.0%\n",
            "Top 3 prediction accuracy: 84.0%\n",
            "\n",
            "Test set: Average loss: 0.0091, Accuracy: 121/200 (60%)\n",
            "\n",
            "hello\n"
          ],
          "name": "stdout"
        },
        {
          "output_type": "display_data",
          "data": {
            "image/png": "[encoded data removed]",
            "text/plain": [
              "<Figure size 432x288 with 2 Axes>"
            ]
          },
          "metadata": {
            "tags": [],
            "needs_background": "light"
          }
        },
        {
          "output_type": "stream",
          "text": [
            "Accuracy for blues is: 0.48148148148148145 \n",
            "\n",
            "Accuracy for classical is: 0.8333333333333334 \n",
            "\n",
            "Accuracy for country is: 0.48 \n",
            "\n",
            "Accuracy for disco is: 0.45 \n",
            "\n",
            "Accuracy for hiphop is: 0.65 \n",
            "\n",
            "Accuracy for jazz is: 0.5 \n",
            "\n",
            "Accuracy for metal is: 0.8333333333333334 \n",
            "\n",
            "Accuracy for pop is: 0.7142857142857143 \n",
            "\n",
            "Accuracy for reggae is: 0.5789473684210527 \n",
            "\n",
            "Accuracy for rock is: 0.6363636363636364 \n",
            "\n"
          ],
          "name": "stdout"
        }
      ]
    },
    {
      "cell_type": "code",
      "metadata": {
        "id": "Yyc8Cdczdwyb",
        "colab_type": "code",
        "colab": {
          "base_uri": "https://localhost:8080/",
          "height": 590
        },
        "outputId": "4267fa4d-f6f6-42fd-d979-3b2447037447"
      },
      "source": [
        "#%%\n",
        "plt.plot( train_accuracy_hist[:count], 'g', label='Training Accuracy')\n",
        "plt.plot(validation_accuracy_hist[:count], 'b', label='Validation Accuracy')\n",
        "plt.title('Training Accuracies')\n",
        "plt.xlabel('Epochs')\n",
        "plt.ylabel('Training')\n",
        "plt.legend()\n",
        "plt.show()  \n",
        "\n",
        "\n",
        "\n",
        "plt.plot(train_loss_hist[:count], 'g', label='Training Loss')\n",
        "plt.title('Training Loss')\n",
        "plt.xlabel('Epochs')\n",
        "plt.ylabel('Loss')\n",
        "plt.legend()\n",
        "plt.show()  \n",
        "\n",
        "\n",
        "print(\"The End\")"
      ],
      "execution_count": 41,
      "outputs": [
        {
          "output_type": "display_data",
          "data": {
            "image/png": "[encoded data removed]",
            "text/plain": [
              "<Figure size 432x288 with 1 Axes>"
            ]
          },
          "metadata": {
            "tags": [],
            "needs_background": "light"
          }
        },
        {
          "output_type": "display_data",
          "data": {
            "image/png": "[encoded data removed]",
            "text/plain": [
              "<Figure size 432x288 with 1 Axes>"
            ]
          },
          "metadata": {
            "tags": [],
            "needs_background": "light"
          }
        },
        {
          "output_type": "stream",
          "text": [
            "The End\n"
          ],
          "name": "stdout"
        }
      ]
    }
  ]
}